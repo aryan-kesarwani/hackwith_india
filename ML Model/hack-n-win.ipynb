{
 "cells": [
  {
   "cell_type": "code",
   "execution_count": 1,
   "id": "1ee1529a",
   "metadata": {},
   "outputs": [
    {
     "name": "stdout",
     "output_type": "stream",
     "text": [
      "Metal device set to: Apple M2\n",
      " * Serving Flask app '__main__'\n",
      " * Debug mode: on\n"
     ]
    },
    {
     "name": "stderr",
     "output_type": "stream",
     "text": [
      "WARNING: This is a development server. Do not use it in a production deployment. Use a production WSGI server instead.\n",
      " * Running on http://127.0.0.1:5000\n",
      "Press CTRL+C to quit\n",
      " * Restarting with stat\n",
      "Traceback (most recent call last):\n",
      "  File \"/Users/aryansmac/miniconda3/envs/tensorflow/lib/python3.10/site-packages/ipykernel_launcher.py\", line 17, in <module>\n",
      "    app.launch_new_instance()\n",
      "  File \"/Users/aryansmac/miniconda3/envs/tensorflow/lib/python3.10/site-packages/traitlets/config/application.py\", line 1042, in launch_instance\n",
      "    app.initialize(argv)\n",
      "  File \"/Users/aryansmac/miniconda3/envs/tensorflow/lib/python3.10/site-packages/traitlets/config/application.py\", line 113, in inner\n",
      "    return method(app, *args, **kwargs)\n",
      "  File \"/Users/aryansmac/miniconda3/envs/tensorflow/lib/python3.10/site-packages/ipykernel/kernelapp.py\", line 678, in initialize\n",
      "    self.init_sockets()\n",
      "  File \"/Users/aryansmac/miniconda3/envs/tensorflow/lib/python3.10/site-packages/ipykernel/kernelapp.py\", line 317, in init_sockets\n",
      "    self.shell_port = self._bind_socket(self.shell_socket, self.shell_port)\n",
      "  File \"/Users/aryansmac/miniconda3/envs/tensorflow/lib/python3.10/site-packages/ipykernel/kernelapp.py\", line 252, in _bind_socket\n",
      "    return self._try_bind_socket(s, port)\n",
      "  File \"/Users/aryansmac/miniconda3/envs/tensorflow/lib/python3.10/site-packages/ipykernel/kernelapp.py\", line 228, in _try_bind_socket\n",
      "    s.bind(\"tcp://%s:%i\" % (self.ip, port))\n",
      "  File \"/Users/aryansmac/miniconda3/envs/tensorflow/lib/python3.10/site-packages/zmq/sugar/socket.py\", line 301, in bind\n",
      "    super().bind(addr)\n",
      "  File \"zmq/backend/cython/socket.pyx\", line 564, in zmq.backend.cython.socket.Socket.bind\n",
      "  File \"zmq/backend/cython/checkrc.pxd\", line 28, in zmq.backend.cython.checkrc._check_rc\n",
      "zmq.error.ZMQError: Address already in use\n"
     ]
    },
    {
     "ename": "SystemExit",
     "evalue": "1",
     "output_type": "error",
     "traceback": [
      "An exception has occurred, use %tb to see the full traceback.\n",
      "\u001b[0;31mSystemExit\u001b[0m\u001b[0;31m:\u001b[0m 1\n"
     ]
    },
    {
     "name": "stderr",
     "output_type": "stream",
     "text": [
      "/Users/aryansmac/miniconda3/envs/tensorflow/lib/python3.10/site-packages/IPython/core/interactiveshell.py:3513: UserWarning: To exit: use 'exit', 'quit', or Ctrl-D.\n",
      "  warn(\"To exit: use 'exit', 'quit', or Ctrl-D.\", stacklevel=1)\n"
     ]
    }
   ],
   "source": [
    "from flask import Flask, request, jsonify\n",
    "import numpy as np\n",
    "import tensorflow as tf\n",
    "\n",
    "app = Flask(__name__)\n",
    "\n",
    "# Define model loading function (replace with your specific logic)\n",
    "def load_model(model_path):\n",
    "  return tf.keras.models.load_model(model_path)\n",
    "\n",
    "# Load the pre-trained model (outside route for efficiency)\n",
    "model = load_model('plant_google_sol.h5')  # Replace 'model.h5' with your actual file path\n",
    "\n",
    "@app.route(\"/process_data\", methods=[\"POST\"])\n",
    "def process_data():\n",
    "  # Extract JSON data from request\n",
    "  request_data = request.get_json()\n",
    "\n",
    "  # Check if data is valid JSON\n",
    "  if not request_data:\n",
    "    return jsonify({\"error\": \"Invalid JSON data provided\"}), 400\n",
    "\n",
    "  # Extract relevant features from JSON data (excluding \"ec\")\n",
    "  try:\n",
    "    co2 = request_data.get(\"co2\")\n",
    "    temp = request_data.get(\"temp\")\n",
    "    humidity = request_data.get(\"humidity\")\n",
    "    li = request_data.get(\"li\")\n",
    "    ph = request_data.get(\"ph\")\n",
    "    wl = request_data.get(\"wl\")\n",
    "  except KeyError as e:\n",
    "    return jsonify({\"error\": f\"Missing key: {e}\"}), 400\n",
    "\n",
    "  # Perform data preprocessing (if needed)\n",
    "  extracted_data = [co2, temp, humidity, li, ph, wl]\n",
    "\n",
    "  # Make prediction using the model\n",
    "  prediction = model.predict(np.array([extracted_data]))[0][0]\n",
    "\n",
    "  # Prepare the output JSON with the target (prediction)\n",
    "  output_data = {\"target\": prediction}\n",
    "\n",
    "  return jsonify(output_data)\n",
    "\n",
    "if __name__ == \"__main__\":\n",
    "  app.run(debug=True)"
   ]
  },
  {
   "cell_type": "code",
   "execution_count": null,
   "id": "e4915412",
   "metadata": {},
   "outputs": [],
   "source": []
  }
 ],
 "metadata": {
  "kernelspec": {
   "display_name": "Python 3.10 (tensorflow)",
   "language": "python",
   "name": "tensorflow"
  },
  "language_info": {
   "codemirror_mode": {
    "name": "ipython",
    "version": 3
   },
   "file_extension": ".py",
   "mimetype": "text/x-python",
   "name": "python",
   "nbconvert_exporter": "python",
   "pygments_lexer": "ipython3",
   "version": "3.10.10"
  }
 },
 "nbformat": 4,
 "nbformat_minor": 5
}
